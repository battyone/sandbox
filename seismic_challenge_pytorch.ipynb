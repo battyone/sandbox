{
 "cells": [
  {
   "cell_type": "code",
   "execution_count": 1,
   "metadata": {
    "colab": {},
    "colab_type": "code",
    "id": "MGkx_d-A6D0_"
   },
   "outputs": [],
   "source": [
    "BATCH_SIZE = 2\n",
    "\n",
    "BASE_PATH = 'D:/my/ML/'\n",
    "\n",
    "IMAGE_PATH  = BASE_PATH + 'seismic_challenge_train_images/'\n",
    "TEST_PATH   = BASE_PATH + 'seismic_challenge_test_images/'\n",
    "MASK_PATH   = BASE_PATH + 'train.csv'\n",
    "SAMPLE_PATH = BASE_PATH + 'seismic_challenge_org_model.csv'"
   ]
  },
  {
   "cell_type": "code",
   "execution_count": 2,
   "metadata": {},
   "outputs": [],
   "source": [
    "import sys\n",
    "#!{sys.executable} -m pip install albumentations"
   ]
  },
  {
   "cell_type": "code",
   "execution_count": 3,
   "metadata": {},
   "outputs": [],
   "source": [
    "import sys\n",
    "#!{sys.executable} -m conda install pytorch torchvision cudatoolkit=10.1 -c pytorch"
   ]
  },
  {
   "cell_type": "code",
   "execution_count": 4,
   "metadata": {
    "colab": {},
    "colab_type": "code",
    "id": "n0fGjp94xXoH"
   },
   "outputs": [],
   "source": [
    "import gc\n",
    "import os\n",
    "import albumentations as A\n",
    "import torch\n",
    "import torch.nn as nn\n",
    "import pandas as pd\n",
    "import numpy as np\n",
    "import cv2\n",
    "\n",
    "from albumentations.pytorch import ToTensor\n",
    "from torch.utils.data import DataLoader\n",
    "from torch.autograd import Variable\n",
    "from torch.optim import Adam\n",
    "from torchvision.models import resnet34\n",
    "\n",
    "import tqdm"
   ]
  },
  {
   "cell_type": "code",
   "execution_count": 5,
   "metadata": {
    "colab": {},
    "colab_type": "code",
    "id": "fD9QiPB8xXoK"
   },
   "outputs": [],
   "source": [
    "def conv3x3(in_planes, out_planes, stride=1):\n",
    "    \"\"\"3x3 convolution with padding\"\"\"\n",
    "    return nn.Conv2d(in_planes, out_planes, kernel_size=3, stride=stride, padding=1, bias=False)\n",
    "\n",
    "class ConvRelu(nn.Module):\n",
    "    def __init__(self, in_planes, out_planes):\n",
    "        super().__init__()\n",
    "        self.conv = conv3x3(in_planes, out_planes)\n",
    "        self.activation = nn.ReLU(inplace=True)\n",
    "\n",
    "    def forward(self, x):\n",
    "        x = self.conv(x)\n",
    "        x = self.activation(x)\n",
    "        return x\n",
    "\n",
    "\n",
    "class ConvBn2d(nn.Module):\n",
    "    def __init__(self, in_channels, out_channels, kernel_size=(3, 3), stride=(1, 1), padding=(1, 1)):\n",
    "        super(ConvBn2d, self).__init__()\n",
    "        self.conv = nn.Conv2d(in_channels, out_channels,\n",
    "                              kernel_size=kernel_size, stride=stride, padding=padding, bias=False)\n",
    "        self.bn = nn.BatchNorm2d(out_channels)\n",
    "        # self.bn = SynchronizedBatchNorm2d(out_channels)\n",
    "\n",
    "    def forward(self, z):\n",
    "        x = self.conv(z)\n",
    "        x = self.bn(x)\n",
    "        return x\n",
    "\n",
    "\n",
    "class Decoder(nn.Module):\n",
    "    def __init__(self, in_channels, channels, out_channels):\n",
    "        super(Decoder, self).__init__()\n",
    "        self.conv1 = ConvBn2d(in_channels, channels, kernel_size=3, padding=1)\n",
    "        self.conv2 = ConvBn2d(channels, out_channels, kernel_size=3, padding=1)\n",
    "\n",
    "    def forward(self, x):\n",
    "        #x = F.upsample(x, scale_factor=2, mode='bilinear')\n",
    "        x = F.upsample(x, scale_factor=2, mode='bilinear', align_corners=True)\n",
    "        x = F.relu(self.conv1(x), inplace=True)\n",
    "        x = F.relu(self.conv2(x), inplace=True)\n",
    "        return x\n",
    "\n",
    "\n",
    "class DecoderSEBlockV2(nn.Module):\n",
    "    def __init__(self, in_channels, middle_channels, out_channels):\n",
    "        super().__init__()\n",
    "        self.in_channels = in_channels\n",
    "        self.block = nn.Sequential(\n",
    "            #nn.Upsample(scale_factor=2, mode='bilinear'),\n",
    "            nn.Upsample(scale_factor=2, mode='bilinear', align_corners=True),\n",
    "            ConvRelu(in_channels, middle_channels),\n",
    "            ConvRelu(middle_channels, out_channels))\n",
    "        # SEBlock(planes=out_channels, reduction=16))\n",
    "\n",
    "    def forward(self, x):\n",
    "        return self.block(x)"
   ]
  },
  {
   "cell_type": "code",
   "execution_count": 6,
   "metadata": {
    "colab": {},
    "colab_type": "code",
    "id": "xPMG8koYxXoP"
   },
   "outputs": [],
   "source": [
    "class UnetResnet34(nn.Module):\n",
    "    def __init__(self, num_classes=1, num_filters=16, pretrained=True):\n",
    "        super().__init__()\n",
    "        self.num_classes = num_classes\n",
    "        self.pool = nn.MaxPool2d(2, 2)\n",
    "        encoder = resnet34(pretrained=pretrained)\n",
    "        self.relu = nn.ReLU(inplace=True)\n",
    "\n",
    "        self.encoder = nn.ModuleList([\n",
    "            nn.Sequential(\n",
    "                encoder.conv1,\n",
    "                encoder.bn1,\n",
    "                encoder.relu,\n",
    "                self.pool),\n",
    "            encoder.layer1,\n",
    "            encoder.layer2,\n",
    "            encoder.layer3,\n",
    "            encoder.layer4])\n",
    "\n",
    "        self.avgpool = nn.AvgPool2d(3)\n",
    "        self.fc = nn.Linear(512, 1)\n",
    "\n",
    "        self.center = DecoderSEBlockV2(512, num_filters * 8 * 2, num_filters * 8)\n",
    "\n",
    "        self.decoder = nn.ModuleList([\n",
    "            DecoderSEBlockV2(512 + num_filters * 8, num_filters * 8 * 2, num_filters * 8),\n",
    "            DecoderSEBlockV2(256 + num_filters * 8, num_filters * 8 * 2, num_filters * 8),\n",
    "            DecoderSEBlockV2(128 + num_filters * 8, num_filters * 4 * 2, num_filters * 2),\n",
    "            DecoderSEBlockV2(64 + num_filters * 2, num_filters * 2 * 2, num_filters * 2 * 2),\n",
    "        ])\n",
    "\n",
    "        self.dec1 = DecoderSEBlockV2(num_filters * 2 * 2, num_filters * 2 * 2, num_filters)\n",
    "        self.dec0 = ConvRelu(num_filters, num_filters)\n",
    "        self.final = nn.Conv2d(num_filters, num_classes, kernel_size=1)\n",
    "\n",
    "    def forward(self, x):\n",
    "        encoder_results = []\n",
    "        for stage in self.encoder:\n",
    "            x = stage(x)\n",
    "            encoder_results.append(x.clone())\n",
    "\n",
    "        x = self.center(self.pool(x))\n",
    "\n",
    "        for i, decoder in enumerate(self.decoder):\n",
    "            x = self.decoder[i](torch.cat([x, encoder_results[-i-1]], 1))\n",
    "        \n",
    "        del encoder_results\n",
    "        # reusing GPU RAM\n",
    "        torch.cuda.empty_cache()\n",
    "        gc.collect()\n",
    "        \n",
    "        x = self.dec1(x)\n",
    "        x = self.dec0(x)\n",
    "        x = self.final(x)\n",
    "\n",
    "        return x"
   ]
  },
  {
   "cell_type": "code",
   "execution_count": 7,
   "metadata": {
    "colab": {},
    "colab_type": "code",
    "id": "cV2V-M7yxXoT"
   },
   "outputs": [],
   "source": [
    "class CrossEntropyLoss(nn.Module):\n",
    "    def __init__(self, weight=None, size_average=True):\n",
    "        super(CrossEntropyLoss, self).__init__()\n",
    "        self.loss = nn.CrossEntropyLoss(weight, size_average)\n",
    "\n",
    "    def forward(self, logits, targets):\n",
    "        targets = targets.type(torch.cuda.LongTensor)\n",
    "        return self.loss(logits, targets)\n",
    "\n",
    "    \n",
    "class MultiDice(nn.Module):\n",
    "    \"\"\"\n",
    "    Calculate Dice with averaging per classes and then per batch\n",
    "    \"\"\"\n",
    "    def __init__(self,):\n",
    "        super(MultiDice, self).__init__()\n",
    "\n",
    "    def forward(self, outputs, targets):\n",
    "        smooth = 1e-15\n",
    "        prediction = outputs.softmax(dim=1)\n",
    "        \n",
    "        dices = []\n",
    "        for val in range(1, 8):\n",
    "            target = (targets == val).float().squeeze()\n",
    "            ch_pred = prediction[:, val]\n",
    "            intersection = torch.sum(torch.abs(ch_pred * target), dim=(1,2))\n",
    "            union = torch.sum(ch_pred, dim=(1,2)) + torch.sum(target, dim=(1,2))\n",
    "            dice_part = torch.mean((2. * intersection + smooth) / (union + smooth), dim=0)\n",
    "            dices.append(dice_part.mean())\n",
    "        return torch.mean(dices)"
   ]
  },
  {
   "cell_type": "code",
   "execution_count": 8,
   "metadata": {
    "colab": {},
    "colab_type": "code",
    "id": "KS-1PBNxxXoW"
   },
   "outputs": [],
   "source": [
    "def rle2mask(mask_rle, shape):\n",
    "    \"\"\"\n",
    "    mask_rle: run-length as string formated (start length)\n",
    "    shape: (width,height) of array to return\n",
    "    Returns numpy array, 1 - mask, 0 - background\n",
    "    \"\"\"\n",
    "    if mask_rle != mask_rle:\n",
    "        return np.zeros_like(shape)\n",
    "\n",
    "    s = mask_rle.split()\n",
    "    starts, lengths = [np.asarray(x, dtype=int) for x in (s[0:][::2], s[1:][::2])]\n",
    "    starts -= 1\n",
    "    ends = starts + lengths\n",
    "    img = np.zeros(shape[0]*shape[1], dtype=np.uint8)\n",
    "    for lo, hi in zip(starts, ends):\n",
    "        img[lo:hi] = 1\n",
    "    return img.reshape(shape).T"
   ]
  },
  {
   "cell_type": "code",
   "execution_count": 9,
   "metadata": {
    "colab": {},
    "colab_type": "code",
    "id": "CVbnjbWVxXoa"
   },
   "outputs": [],
   "source": [
    "train = pd.read_csv(MASK_PATH)\n",
    "\n",
    "np.random.seed(31337)\n",
    "valid_ids = np.random.choice(train.ImageId.unique(), size=int(0.3 * train.ImageId.nunique()), replace=False)\n",
    "\n",
    "valid = train[train.ImageId.isin(valid_ids)]\n",
    "train = train[~train.ImageId.isin(valid_ids)]"
   ]
  },
  {
   "cell_type": "code",
   "execution_count": 10,
   "metadata": {
    "colab": {},
    "colab_type": "code",
    "id": "F_94qDtKxXod"
   },
   "outputs": [],
   "source": [
    "device = torch.device('cuda')\n",
    "#device = torch.device('cpu')"
   ]
  },
  {
   "cell_type": "code",
   "execution_count": 11,
   "metadata": {
    "colab": {
     "base_uri": "https://localhost:8080/",
     "height": 71
    },
    "colab_type": "code",
    "id": "PVH3e4DGxXof",
    "outputId": "c160ae3f-355d-4ed1-b4f2-df3477b95420"
   },
   "outputs": [
    {
     "name": "stderr",
     "output_type": "stream",
     "text": [
      "C:\\Users\\il86\\Anaconda3\\lib\\site-packages\\torch\\nn\\_reduction.py:43: UserWarning: size_average and reduce args will be deprecated, please use reduction='mean' instead.\n",
      "  warnings.warn(warning.format(ret))\n"
     ]
    }
   ],
   "source": [
    "criterion = CrossEntropyLoss()\n",
    "metric = MultiDice()"
   ]
  },
  {
   "cell_type": "code",
   "execution_count": 12,
   "metadata": {
    "colab": {},
    "colab_type": "code",
    "id": "wzTZyzzrxXoh"
   },
   "outputs": [],
   "source": [
    "model = UnetResnet34(\n",
    "    num_classes=8, \n",
    "    pretrained=True\n",
    ")\n",
    "\n",
    "# reusing GPU RAM\n",
    "torch.cuda.empty_cache()\n",
    "gc.collect()\n",
    "\n",
    "model = nn.DataParallel(model).to(device)\n",
    "optimizer = Adam(model.parameters(), lr=3e-4)"
   ]
  },
  {
   "cell_type": "code",
   "execution_count": 13,
   "metadata": {
    "colab": {},
    "colab_type": "code",
    "id": "dai1auzIxXok"
   },
   "outputs": [],
   "source": [
    "train_transforms = A.Compose([\n",
    "    A.Resize(384, 384),\n",
    "    A.HorizontalFlip(p=0.5),\n",
    "    A.Normalize(\n",
    "        mean=(0.485, 0.456, 0.406),\n",
    "        std=(0.229, 0.224, 0.225)),\n",
    "])\n",
    "\n",
    "valid_transforms = A.Compose([\n",
    "    A.Resize(384, 384),                      \n",
    "    A.Normalize(\n",
    "        mean=(0.485, 0.456, 0.406),\n",
    "        std=(0.229, 0.224, 0.225)),\n",
    "])"
   ]
  },
  {
   "cell_type": "code",
   "execution_count": 14,
   "metadata": {
    "colab": {},
    "colab_type": "code",
    "id": "fCAm6AJtxXon"
   },
   "outputs": [],
   "source": [
    "class TrainDataset():\n",
    "    def __init__(self, image_dir, train, transform):\n",
    "        self.image_dir = image_dir\n",
    "        self.train = train\n",
    "        self.transform = transform\n",
    "\n",
    "    def __getitem__(self, index):\n",
    "        img_name = self.train.iloc[index]['ImageId']\n",
    "        \n",
    "        path = os.path.join(self.image_dir, img_name)\n",
    "        img = cv2.imread(path)\n",
    "        \n",
    "        ce_mask = [\n",
    "            (i + 1) * rle2mask(rle, shape=(img.shape[1], img.shape[0])) \\\n",
    "                for i, rle in enumerate(self.train[self.train['ImageId']==img_name]['EncodedPixels'])\n",
    "        ]\n",
    "        ce_mask = np.sum(ce_mask, axis=0, dtype=np.float32)\n",
    "\n",
    "        result = self.transform(\n",
    "            image=img, \n",
    "            mask=ce_mask\n",
    "        )\n",
    "        \n",
    "        result = {\n",
    "            'image': ToTensor()(image=result['image'])['image'], \n",
    "            'mask': torch.Tensor(result['mask'])\n",
    "        }\n",
    "        return result\n",
    "    \n",
    "    def __len__(self, ):\n",
    "        return len(self.train)\n",
    "\n",
    "\n",
    "class TestDataset():\n",
    "    def __init__(self, image_dir, test, transform):\n",
    "        self.image_dir = image_dir\n",
    "        self.test = test\n",
    "        self.transform = transform\n",
    "\n",
    "    def __getitem__(self, index):\n",
    "        img_name = self.test.iloc[index]['ImageId']\n",
    "        path = os.path.join(self.image_dir, img_name)\n",
    "        img = cv2.imread(path)\n",
    "\n",
    "        result = self.transform(\n",
    "            image=img, \n",
    "        )\n",
    "        \n",
    "        result = {\n",
    "            'image': ToTensor()(image=result['image'])['image'], \n",
    "        }\n",
    "        \n",
    "        return result\n",
    "    \n",
    "    def __len__(self, ):\n",
    "        return len(self.test)"
   ]
  },
  {
   "cell_type": "code",
   "execution_count": 15,
   "metadata": {
    "colab": {},
    "colab_type": "code",
    "id": "a2uP_jsvxXoq"
   },
   "outputs": [],
   "source": [
    "train_dataset = TrainDataset(\n",
    "    image_dir=IMAGE_PATH, \n",
    "    train=train, \n",
    "    transform=train_transforms\n",
    ")\n",
    "\n",
    "valid_dataset = TrainDataset(\n",
    "    image_dir=IMAGE_PATH, \n",
    "    train=valid, \n",
    "    transform=valid_transforms\n",
    ")"
   ]
  },
  {
   "cell_type": "code",
   "execution_count": 16,
   "metadata": {
    "colab": {},
    "colab_type": "code",
    "id": "h10ZINlexXos"
   },
   "outputs": [],
   "source": [
    "train_loader = DataLoader(\n",
    "    dataset=train_dataset,\n",
    "    batch_size=BATCH_SIZE,\n",
    "    shuffle=True, \n",
    ")\n",
    "\n",
    "valid_loader = DataLoader(\n",
    "    dataset=valid_dataset,\n",
    "    batch_size=BATCH_SIZE,\n",
    "    shuffle=False, \n",
    ")"
   ]
  },
  {
   "cell_type": "code",
   "execution_count": 17,
   "metadata": {
    "colab": {
     "base_uri": "https://localhost:8080/",
     "height": 1000
    },
    "colab_type": "code",
    "id": "RfupS7eU-FNx",
    "outputId": "3929b3fc-db5d-457d-e3c2-7945f9be47d9",
    "scrolled": true
   },
   "outputs": [
    {
     "data": {
      "application/vnd.jupyter.widget-view+json": {
       "model_id": "5c8435a86ab24eb682f862e5608d19fa",
       "version_major": 2,
       "version_minor": 0
      },
      "text/plain": [
       "HBox(children=(IntProgress(value=0, max=10), HTML(value='')))"
      ]
     },
     "metadata": {},
     "output_type": "display_data"
    },
    {
     "name": "stdout",
     "output_type": "stream",
     "text": [
      "\n"
     ]
    },
    {
     "ename": "TypeError",
     "evalue": "mean(): argument 'input' (position 1) must be Tensor, not list",
     "output_type": "error",
     "traceback": [
      "\u001b[1;31m---------------------------------------------------------------------------\u001b[0m",
      "\u001b[1;31mTypeError\u001b[0m                                 Traceback (most recent call last)",
      "\u001b[1;32m<ipython-input-17-bfca8709b0de>\u001b[0m in \u001b[0;36m<module>\u001b[1;34m\u001b[0m\n\u001b[0;32m     13\u001b[0m         \u001b[1;32mdel\u001b[0m \u001b[0minputs\u001b[0m\u001b[1;33m\u001b[0m\u001b[1;33m\u001b[0m\u001b[0m\n\u001b[0;32m     14\u001b[0m         \u001b[0mloss\u001b[0m \u001b[1;33m=\u001b[0m \u001b[0mcriterion\u001b[0m\u001b[1;33m(\u001b[0m\u001b[0moutputs\u001b[0m\u001b[1;33m,\u001b[0m \u001b[0mmasks\u001b[0m\u001b[1;33m)\u001b[0m\u001b[1;33m\u001b[0m\u001b[1;33m\u001b[0m\u001b[0m\n\u001b[1;32m---> 15\u001b[1;33m         \u001b[0mmetric_value\u001b[0m \u001b[1;33m=\u001b[0m \u001b[0mmetric\u001b[0m\u001b[1;33m(\u001b[0m\u001b[0moutputs\u001b[0m\u001b[1;33m,\u001b[0m \u001b[0mmasks\u001b[0m\u001b[1;33m)\u001b[0m\u001b[1;33m\u001b[0m\u001b[1;33m\u001b[0m\u001b[0m\n\u001b[0m\u001b[0;32m     16\u001b[0m         \u001b[1;32mdel\u001b[0m \u001b[0moutputs\u001b[0m\u001b[1;33m\u001b[0m\u001b[1;33m\u001b[0m\u001b[0m\n\u001b[0;32m     17\u001b[0m         \u001b[1;32mdel\u001b[0m \u001b[0mmasks\u001b[0m\u001b[1;33m\u001b[0m\u001b[1;33m\u001b[0m\u001b[0m\n",
      "\u001b[1;32m~\\Anaconda3\\lib\\site-packages\\torch\\nn\\modules\\module.py\u001b[0m in \u001b[0;36m__call__\u001b[1;34m(self, *input, **kwargs)\u001b[0m\n\u001b[0;32m    539\u001b[0m             \u001b[0mresult\u001b[0m \u001b[1;33m=\u001b[0m \u001b[0mself\u001b[0m\u001b[1;33m.\u001b[0m\u001b[0m_slow_forward\u001b[0m\u001b[1;33m(\u001b[0m\u001b[1;33m*\u001b[0m\u001b[0minput\u001b[0m\u001b[1;33m,\u001b[0m \u001b[1;33m**\u001b[0m\u001b[0mkwargs\u001b[0m\u001b[1;33m)\u001b[0m\u001b[1;33m\u001b[0m\u001b[1;33m\u001b[0m\u001b[0m\n\u001b[0;32m    540\u001b[0m         \u001b[1;32melse\u001b[0m\u001b[1;33m:\u001b[0m\u001b[1;33m\u001b[0m\u001b[1;33m\u001b[0m\u001b[0m\n\u001b[1;32m--> 541\u001b[1;33m             \u001b[0mresult\u001b[0m \u001b[1;33m=\u001b[0m \u001b[0mself\u001b[0m\u001b[1;33m.\u001b[0m\u001b[0mforward\u001b[0m\u001b[1;33m(\u001b[0m\u001b[1;33m*\u001b[0m\u001b[0minput\u001b[0m\u001b[1;33m,\u001b[0m \u001b[1;33m**\u001b[0m\u001b[0mkwargs\u001b[0m\u001b[1;33m)\u001b[0m\u001b[1;33m\u001b[0m\u001b[1;33m\u001b[0m\u001b[0m\n\u001b[0m\u001b[0;32m    542\u001b[0m         \u001b[1;32mfor\u001b[0m \u001b[0mhook\u001b[0m \u001b[1;32min\u001b[0m \u001b[0mself\u001b[0m\u001b[1;33m.\u001b[0m\u001b[0m_forward_hooks\u001b[0m\u001b[1;33m.\u001b[0m\u001b[0mvalues\u001b[0m\u001b[1;33m(\u001b[0m\u001b[1;33m)\u001b[0m\u001b[1;33m:\u001b[0m\u001b[1;33m\u001b[0m\u001b[1;33m\u001b[0m\u001b[0m\n\u001b[0;32m    543\u001b[0m             \u001b[0mhook_result\u001b[0m \u001b[1;33m=\u001b[0m \u001b[0mhook\u001b[0m\u001b[1;33m(\u001b[0m\u001b[0mself\u001b[0m\u001b[1;33m,\u001b[0m \u001b[0minput\u001b[0m\u001b[1;33m,\u001b[0m \u001b[0mresult\u001b[0m\u001b[1;33m)\u001b[0m\u001b[1;33m\u001b[0m\u001b[1;33m\u001b[0m\u001b[0m\n",
      "\u001b[1;32m<ipython-input-7-aa27e71d7013>\u001b[0m in \u001b[0;36mforward\u001b[1;34m(self, outputs, targets)\u001b[0m\n\u001b[0;32m     28\u001b[0m             \u001b[0mdice_part\u001b[0m \u001b[1;33m=\u001b[0m \u001b[1;33m(\u001b[0m\u001b[1;36m2\u001b[0m \u001b[1;33m*\u001b[0m \u001b[0mintersection\u001b[0m \u001b[1;33m+\u001b[0m \u001b[0msmooth\u001b[0m\u001b[1;33m)\u001b[0m \u001b[1;33m/\u001b[0m \u001b[1;33m(\u001b[0m\u001b[0munion\u001b[0m \u001b[1;33m+\u001b[0m \u001b[0msmooth\u001b[0m\u001b[1;33m)\u001b[0m\u001b[1;33m\u001b[0m\u001b[1;33m\u001b[0m\u001b[0m\n\u001b[0;32m     29\u001b[0m             \u001b[0mdices\u001b[0m\u001b[1;33m.\u001b[0m\u001b[0mappend\u001b[0m\u001b[1;33m(\u001b[0m\u001b[0mdice_part\u001b[0m\u001b[1;33m.\u001b[0m\u001b[0mmean\u001b[0m\u001b[1;33m(\u001b[0m\u001b[1;33m)\u001b[0m\u001b[1;33m)\u001b[0m\u001b[1;33m\u001b[0m\u001b[1;33m\u001b[0m\u001b[0m\n\u001b[1;32m---> 30\u001b[1;33m         \u001b[1;32mreturn\u001b[0m \u001b[0mtorch\u001b[0m\u001b[1;33m.\u001b[0m\u001b[0mmean\u001b[0m\u001b[1;33m(\u001b[0m\u001b[0mdices\u001b[0m\u001b[1;33m)\u001b[0m\u001b[1;33m\u001b[0m\u001b[1;33m\u001b[0m\u001b[0m\n\u001b[0m",
      "\u001b[1;31mTypeError\u001b[0m: mean(): argument 'input' (position 1) must be Tensor, not list"
     ]
    }
   ],
   "source": [
    "for epoch in tqdm.tqdm_notebook(range(10)):\n",
    "    running_loss = 0.0\n",
    "    value = 0.0\n",
    "    \n",
    "    model.train()\n",
    "    for i, data in enumerate(train_loader):\n",
    "        inputs = Variable(data['image']).to(device)\n",
    "        masks = Variable(data['mask']).to(device)\n",
    "\n",
    "        optimizer.zero_grad()\n",
    "\n",
    "        outputs = model(inputs)\n",
    "        del inputs\n",
    "        loss = criterion(outputs, masks)\n",
    "        metric_value = metric(outputs, masks)\n",
    "        del outputs\n",
    "        del masks\n",
    "        \n",
    "        loss.backward()\n",
    "        optimizer.step()\n",
    "\n",
    "        running_loss += loss.item()\n",
    "        value += metric_value.item()\n",
    "        print(f\"[TRAIN][BATCH {i}/{len(train_loader)}] {value / (i + 1)}\\r\", end=\"\")\n",
    "    \n",
    "    running_loss = 0.0\n",
    "    value = 0.0\n",
    "    model.eval()\n",
    "    \n",
    "    # reusing GPU RAM\n",
    "    torch.cuda.empty_cache()\n",
    "    gc.collect()\n",
    "    \n",
    "    for i, data in enumerate(valid_loader):\n",
    "        inputs = Variable(data['image']).to(device)\n",
    "        masks = Variable(data['mask']).to(device)\n",
    "\n",
    "        outputs = model(inputs)\n",
    "        del inputs\n",
    "        loss = criterion(outputs, masks)\n",
    "        metric_value = metric(outputs, masks)\n",
    "        del outputs\n",
    "        del masks\n",
    "        \n",
    "        running_loss += loss.item()\n",
    "        value += metric_value.item()                   \n",
    "        \n",
    "        print(f\"[VALID][BATCH {i}/{len(valid_loader)}] {value / (i + 1)}\\r\", end=\"\")\n",
    "    \n",
    "    # reusing GPU RAM\n",
    "    torch.cuda.empty_cache()"
   ]
  },
  {
   "cell_type": "code",
   "execution_count": null,
   "metadata": {
    "colab": {},
    "colab_type": "code",
    "id": "W47tSYajyjZV"
   },
   "outputs": [],
   "source": [
    "test = pd.read_csv(SAMPLE_PATH)\n",
    "test_ids = test.drop_duplicates('ImageId')"
   ]
  },
  {
   "cell_type": "code",
   "execution_count": null,
   "metadata": {
    "colab": {},
    "colab_type": "code",
    "id": "eRClVBCOyjZX"
   },
   "outputs": [],
   "source": [
    "test_dataset = TestDataset(\n",
    "    image_dir=TEST_PATH, \n",
    "    test=test_ids, \n",
    "    transform=valid_transforms\n",
    ")"
   ]
  },
  {
   "cell_type": "code",
   "execution_count": null,
   "metadata": {
    "colab": {},
    "colab_type": "code",
    "id": "E1W1WRJ--L6g"
   },
   "outputs": [],
   "source": [
    "test_loader = DataLoader(\n",
    "    dataset=test_dataset,\n",
    "    batch_size=BATCH_SIZE,\n",
    "    shuffle=False, \n",
    ")"
   ]
  },
  {
   "cell_type": "code",
   "execution_count": null,
   "metadata": {},
   "outputs": [],
   "source": [
    "img_names = test_ids.ImageId.values\n",
    "shapes = {name: cv2.imread(os.path.join(TEST_PATH, name), 0).shape for name in img_names}"
   ]
  },
  {
   "cell_type": "code",
   "execution_count": null,
   "metadata": {
    "colab": {},
    "colab_type": "code",
    "id": "go2UruEayjZb"
   },
   "outputs": [],
   "source": [
    "def mask2rle(img):\n",
    "    '''\n",
    "    img: numpy array, 1 - mask, 0 - background\n",
    "    Returns run length as string formated\n",
    "    '''\n",
    "    pixels = img.flatten()\n",
    "    pixels = np.concatenate([[0], pixels, [0]])\n",
    "    runs = np.where(pixels[1:] != pixels[:-1])[0] + 1\n",
    "    runs[1::2] -= runs[::2]\n",
    "    return ' '.join(str(x) for x in runs)\n",
    "\n",
    "\n",
    "def out2rle(outputs, i):\n",
    "    rles = []\n",
    "    \n",
    "    smooth = 1e-15\n",
    "    prediction = outputs.detach().cpu().softmax(dim=1).numpy()\n",
    "\n",
    "    for j, sample in enumerate(prediction):\n",
    "        for val in range(1, 8):\n",
    "            ch_pred = sample[val]\n",
    "            shape = shapes[img_names[8*i+j]]\n",
    "            ch_pred = cv2.resize(ch_pred, (shape[1], shape[0]))\n",
    "            rles.append(mask2rle(ch_pred.T > 0.5))\n",
    "    return rles"
   ]
  },
  {
   "cell_type": "code",
   "execution_count": null,
   "metadata": {
    "colab": {
     "base_uri": "https://localhost:8080/",
     "height": 88
    },
    "colab_type": "code",
    "id": "nJqVBcF8yjZe",
    "outputId": "ec546b74-9205-4d07-c0e5-b87e8ff6a976"
   },
   "outputs": [],
   "source": [
    "rles = []\n",
    "\n",
    "for i, data in tqdm.tqdm_notebook(enumerate(test_loader), total=len(test_loader)):\n",
    "    inputs = Variable(data['image']).to(device)\n",
    "    outputs = model(inputs)\n",
    "    \n",
    "    del inputs\n",
    "    rles += out2rle(outputs, i)"
   ]
  },
  {
   "cell_type": "code",
   "execution_count": null,
   "metadata": {
    "colab": {
     "base_uri": "https://localhost:8080/",
     "height": 324
    },
    "colab_type": "code",
    "id": "LWd4eeYIyjZf",
    "outputId": "91b02021-0e3b-4294-a2d2-5b146e8315bc"
   },
   "outputs": [],
   "source": [
    "test['EncodedPixels'] = rles\n",
    "\n",
    "print(test.head())\n",
    "test.to_csv('submission.csv', index=False)"
   ]
  }
 ],
 "metadata": {
  "accelerator": "GPU",
  "colab": {
   "collapsed_sections": [],
   "name": "baseline_rosneft.ipynb",
   "provenance": []
  },
  "kernelspec": {
   "display_name": "Python 3",
   "language": "python",
   "name": "python3"
  },
  "language_info": {
   "codemirror_mode": {
    "name": "ipython",
    "version": 3
   },
   "file_extension": ".py",
   "mimetype": "text/x-python",
   "name": "python",
   "nbconvert_exporter": "python",
   "pygments_lexer": "ipython3",
   "version": "3.7.3"
  }
 },
 "nbformat": 4,
 "nbformat_minor": 1
}
